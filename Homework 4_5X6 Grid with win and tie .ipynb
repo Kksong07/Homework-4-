{
 "cells": [
  {
   "cell_type": "code",
   "execution_count": null,
   "id": "65b1c6ec",
   "metadata": {},
   "outputs": [],
   "source": [
    "# Constants for the grid size and players\n",
    "ROWS, COLS = 5, 6\n",
    "PLAYER_1 = 'X'\n",
    "PLAYER_2 = 'O'\n",
    "EMPTY = ' '\n",
    "\n",
    "# Initial positions\n",
    "START_X = (3, 4)  # Starting position for Player 1 (X)\n",
    "START_O = (3, 3)  # Starting position for Player 2 (O)\n",
    "\n",
    "# Initialize the 5x6 board\n",
    "def initialize_board():\n",
    "    return [[EMPTY for _ in range(COLS)] for _ in range(ROWS)]\n",
    "\n",
    "# Print the board\n",
    "def print_board(board):\n",
    "    for row in board:\n",
    "        print(' '.join(row))\n",
    "    print()\n",
    "\n",
    "# Check for win or tie\n",
    "def check_winner(board):\n",
    "    # Horizontal check\n",
    "    for row in range(ROWS):\n",
    "        for col in range(COLS - 3):\n",
    "            if board[row][col] != EMPTY and board[row][col] == board[row][col + 1] == board[row][col + 2] == board[row][col + 3]:\n",
    "                return board[row][col]\n",
    "\n",
    "    # Vertical check\n",
    "    for col in range(COLS):\n",
    "        for row in range(ROWS - 3):\n",
    "            if board[row][col] != EMPTY and board[row][col] == board[row + 1][col] == board[row + 2][col] == board[row + 3][col]:\n",
    "                return board[row][col]\n",
    "\n",
    "    # Diagonal check (top-left to bottom-right)\n",
    "    for row in range(ROWS - 3):\n",
    "        for col in range(COLS - 3):\n",
    "            if board[row][col] != EMPTY and board[row][col] == board[row + 1][col + 1] == board[row + 2][col + 2] == board[row + 3][col + 3]:\n",
    "                return board[row][col]\n",
    "\n",
    "    # Diagonal check (top-right to bottom-left)\n",
    "    for row in range(ROWS - 3):\n",
    "        for col in range(3, COLS):\n",
    "            if board[row][col] != EMPTY and board[row][col] == board[row + 1][col - 1] == board[row + 2][col - 2] == board[row + 3][col - 3]:\n",
    "                return board[row][col]\n",
    "\n",
    "    # Tie check: if the board is full and no winner\n",
    "    if all(board[row][col] != EMPTY for row in range(ROWS) for col in range(COLS)):\n",
    "        return \"Tie\"\n",
    "\n",
    "    return None"
   ]
  },
  {
   "cell_type": "code",
   "execution_count": null,
   "id": "e22aa425",
   "metadata": {},
   "outputs": [],
   "source": []
  }
 ],
 "metadata": {
  "kernelspec": {
   "display_name": "Python 3 (ipykernel)",
   "language": "python",
   "name": "python3"
  },
  "language_info": {
   "codemirror_mode": {
    "name": "ipython",
    "version": 3
   },
   "file_extension": ".py",
   "mimetype": "text/x-python",
   "name": "python",
   "nbconvert_exporter": "python",
   "pygments_lexer": "ipython3",
   "version": "3.11.7"
  }
 },
 "nbformat": 4,
 "nbformat_minor": 5
}
